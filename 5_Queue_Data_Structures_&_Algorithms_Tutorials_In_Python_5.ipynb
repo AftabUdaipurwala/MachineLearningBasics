{
  "nbformat": 4,
  "nbformat_minor": 0,
  "metadata": {
    "colab": {
      "provenance": [],
      "authorship_tag": "ABX9TyNvyP6MKxOQvBK1ZF09ayiO",
      "include_colab_link": true
    },
    "kernelspec": {
      "name": "python3",
      "display_name": "Python 3"
    },
    "language_info": {
      "name": "python"
    }
  },
  "cells": [
    {
      "cell_type": "markdown",
      "metadata": {
        "id": "view-in-github",
        "colab_type": "text"
      },
      "source": [
        "<a href=\"https://colab.research.google.com/github/AftabUdaipurwala/MachineLearningBasics/blob/ClassificationModels/5_Queue_Data_Structures_%26_Algorithms_Tutorials_In_Python_5.ipynb\" target=\"_parent\"><img src=\"https://colab.research.google.com/assets/colab-badge.svg\" alt=\"Open In Colab\"/></a>"
      ]
    },
    {
      "cell_type": "code",
      "execution_count": 1,
      "metadata": {
        "id": "yvkVZu2bqFI4"
      },
      "outputs": [],
      "source": [
        "wal_mart_stk_prcs =[]"
      ]
    },
    {
      "cell_type": "code",
      "source": [
        "wal_mart_stk_prcs.insert(0,123)\n",
        "wal_mart_stk_prcs.insert(0,124)\n",
        "wal_mart_stk_prcs.insert(0,125)\n",
        "# everytime a new data is pushed inside the list the entire list moves forward by 1\n",
        "print(wal_mart_stk_prcs)"
      ],
      "metadata": {
        "colab": {
          "base_uri": "https://localhost:8080/"
        },
        "id": "fuHUQagSuVNr",
        "outputId": "24d309d3-de2c-4688-f406-84a79f37c4b5"
      },
      "execution_count": 2,
      "outputs": [
        {
          "output_type": "stream",
          "name": "stdout",
          "text": [
            "[125, 124, 123]\n"
          ]
        }
      ]
    },
    {
      "cell_type": "code",
      "source": [
        "wal_mart_stk_prcs.pop()"
      ],
      "metadata": {
        "id": "gAO63ud8v0rT"
      },
      "execution_count": null,
      "outputs": []
    },
    {
      "cell_type": "code",
      "source": [
        "from collections import deque\n",
        "q = deque()"
      ],
      "metadata": {
        "id": "H_JTUi3Wv0Vv"
      },
      "execution_count": 4,
      "outputs": []
    },
    {
      "cell_type": "code",
      "source": [
        "q.appendleft(123)\n",
        "q.appendleft(124)\n",
        "q.appendleft(125)\n",
        "q.appendleft(126)\n",
        "print(q)\n"
      ],
      "metadata": {
        "colab": {
          "base_uri": "https://localhost:8080/"
        },
        "id": "xlH-x9Txv8ao",
        "outputId": "937b35ef-7e21-4445-aa2a-d17c5cf1234e"
      },
      "execution_count": 5,
      "outputs": [
        {
          "output_type": "stream",
          "name": "stdout",
          "text": [
            "deque([126, 125, 124, 123])\n"
          ]
        }
      ]
    },
    {
      "cell_type": "code",
      "source": [
        "q.popleft()  "
      ],
      "metadata": {
        "colab": {
          "base_uri": "https://localhost:8080/"
        },
        "id": "zbYjeFrgwH-A",
        "outputId": "ddb9da66-69a4-4c1a-ac05-b375d97f77b9"
      },
      "execution_count": 6,
      "outputs": [
        {
          "output_type": "execute_result",
          "data": {
            "text/plain": [
              "126"
            ]
          },
          "metadata": {},
          "execution_count": 6
        }
      ]
    },
    {
      "cell_type": "code",
      "source": [
        "from collections import deque\n",
        "class Queue:\n",
        "\n",
        "    def __init__(self):\n",
        "        self.buffer = deque()\n",
        "    \n",
        "    def enque(self,val):\n",
        "        self.buffer.appendleft(val)\n",
        "    def deque(self):\n",
        "        return self.buffer.popleft()\n",
        "    def size(self):\n",
        "        return len(self.buffer)\n",
        "    \n",
        "    def is_empty(self):\n",
        "        return len(self.buffer)==0\n",
        "\n"
      ],
      "metadata": {
        "id": "f_LpA2Z2wmJ9"
      },
      "execution_count": 7,
      "outputs": []
    },
    {
      "cell_type": "code",
      "source": [
        "queue = Queue()\n",
        "queue.enque(1)\n",
        "queue.enque(2)\n",
        "queue.enque(3)\n",
        "queue.enque(4)\n",
        "queue.enque(5)\n",
        "print(queue.buffer)"
      ],
      "metadata": {
        "colab": {
          "base_uri": "https://localhost:8080/"
        },
        "id": "xo5Tmm_hxNTo",
        "outputId": "7079d60b-de84-4ee1-a217-3f141151b3e1"
      },
      "execution_count": 9,
      "outputs": [
        {
          "output_type": "stream",
          "name": "stdout",
          "text": [
            "deque([5, 4, 3, 2, 1])\n"
          ]
        }
      ]
    },
    {
      "cell_type": "code",
      "source": [
        "queue.deque()"
      ],
      "metadata": {
        "colab": {
          "base_uri": "https://localhost:8080/"
        },
        "id": "dwjZ0wVOxY9-",
        "outputId": "cc0873ec-c12a-4476-9f85-a2eb1ec20e03"
      },
      "execution_count": 10,
      "outputs": [
        {
          "output_type": "execute_result",
          "data": {
            "text/plain": [
              "5"
            ]
          },
          "metadata": {},
          "execution_count": 10
        }
      ]
    },
    {
      "cell_type": "code",
      "source": [
        "queue.is_empty()"
      ],
      "metadata": {
        "colab": {
          "base_uri": "https://localhost:8080/"
        },
        "id": "v5mcASFZxdXP",
        "outputId": "bb170b02-bc90-4391-f694-ac741c594935"
      },
      "execution_count": 11,
      "outputs": [
        {
          "output_type": "execute_result",
          "data": {
            "text/plain": [
              "False"
            ]
          },
          "metadata": {},
          "execution_count": 11
        }
      ]
    },
    {
      "cell_type": "code",
      "source": [
        "queue.size()"
      ],
      "metadata": {
        "colab": {
          "base_uri": "https://localhost:8080/"
        },
        "id": "1y6bQYuzxgIR",
        "outputId": "5911f3f1-1604-49ea-af27-c4a33dc9f844"
      },
      "execution_count": 12,
      "outputs": [
        {
          "output_type": "execute_result",
          "data": {
            "text/plain": [
              "4"
            ]
          },
          "metadata": {},
          "execution_count": 12
        }
      ]
    }
  ]
}