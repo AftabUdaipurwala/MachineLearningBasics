{
  "nbformat": 4,
  "nbformat_minor": 0,
  "metadata": {
    "colab": {
      "provenance": [],
      "collapsed_sections": [],
      "authorship_tag": "ABX9TyMD8WH6tnmT04EXt7uUb7oJ",
      "include_colab_link": true
    },
    "kernelspec": {
      "name": "python3",
      "display_name": "Python 3"
    },
    "language_info": {
      "name": "python"
    }
  },
  "cells": [
    {
      "cell_type": "markdown",
      "metadata": {
        "id": "view-in-github",
        "colab_type": "text"
      },
      "source": [
        "<a href=\"https://colab.research.google.com/github/AftabUdaipurwala/MachineLearningBasics/blob/ClassificationModels/13_Merge_Sort_Data_Structures_%26_Algorithms_Tutorial_Python.ipynb\" target=\"_parent\"><img src=\"https://colab.research.google.com/assets/colab-badge.svg\" alt=\"Open In Colab\"/></a>"
      ]
    },
    {
      "cell_type": "code",
      "execution_count": 1,
      "metadata": {
        "id": "z2DYvvVZXm_f"
      },
      "outputs": [],
      "source": [
        "def merge_two_sorted_list(a,b):\n",
        "    len_a = len(a)\n",
        "    len_b = len(b)\n",
        "    i=j=0\n",
        "    new_list =[]\n",
        "    while i < len(a) and j<len(b):\n",
        "        if a[i] <=b[j]:\n",
        "            new_list.append(a[i])\n",
        "            i+=1\n",
        "        elif a[i] > b[j]:\n",
        "            new_list.append(b[j])\n",
        "            j+=1\n",
        "    while i <len(a):\n",
        "        new_list.append(a[i])\n",
        "        i+=1\n",
        "    while j < len(b):\n",
        "        new_list.append(b[j])  \n",
        "        j+=1  \n",
        "    return new_list\n"
      ]
    },
    {
      "cell_type": "code",
      "source": [
        "def merge_sort(unsorted_list):\n",
        "    if len(unsorted_list)<=1:\n",
        "        return unsorted_list\n",
        "    mid_element = len(unsorted_list)//2\n",
        "    left_arr= unsorted_list[:mid_element]\n",
        "    right_arr= unsorted_list[mid_element:]\n",
        "    left_arr = merge_sort(left_arr)\n",
        "    right_arr = merge_sort(right_arr)\n",
        "    return merge_two_sorted_list(left_arr,right_arr)\n",
        "    "
      ],
      "metadata": {
        "id": "KngHsFaJJ3I7"
      },
      "execution_count": 6,
      "outputs": []
    },
    {
      "cell_type": "markdown",
      "source": [
        "# Efficient Version of Merge Sort"
      ],
      "metadata": {
        "id": "xGHUe0gKMqyJ"
      }
    },
    {
      "cell_type": "code",
      "source": [
        "def merge_sort(arr):\n",
        "    if len(arr) <= 1:\n",
        "        return\n",
        "\n",
        "    mid = len(arr)//2\n",
        "\n",
        "    left = arr[:mid]\n",
        "    right = arr[mid:]\n",
        "\n",
        "    merge_sort(left)\n",
        "    merge_sort(right)\n",
        "\n",
        "    merge_two_sorted_lists(left, right, arr)\n",
        "\n"
      ],
      "metadata": {
        "id": "nuunOKcfMocW"
      },
      "execution_count": 18,
      "outputs": []
    },
    {
      "cell_type": "code",
      "source": [
        "def merge_two_sorted_lists(a,b,arr):\n",
        "    len_a = len(a)\n",
        "    len_b = len(b)\n",
        "\n",
        "    i = j = k = 0\n",
        "\n",
        "    while i < len_a and j < len_b:\n",
        "        if a[i] <= b[j]:\n",
        "            arr[k] = a[i]\n",
        "            i+=1\n",
        "        else:\n",
        "            arr[k] = b[j]\n",
        "            j+=1\n",
        "        k+=1\n",
        "\n",
        "    while i < len_a:\n",
        "        arr[k] = a[i]\n",
        "        i+=1\n",
        "        k+=1\n",
        "\n",
        "    while j < len_b:\n",
        "        arr[k] = b[j]\n",
        "        j+=1\n",
        "        k+=1\n",
        "    "
      ],
      "metadata": {
        "id": "99Enk_J5M_80"
      },
      "execution_count": 19,
      "outputs": []
    },
    {
      "cell_type": "code",
      "source": [
        "if __name__ == '__main__':\n",
        "    test_cases = [\n",
        "        [10, 3, 15, 7, 8, 23, 98, 29],\n",
        "        [],\n",
        "        [3],\n",
        "        [9,8,7,2],\n",
        "        [1,2,3,4,5]\n",
        "    ]\n",
        "\n",
        "    for arr in test_cases:\n",
        "        merge_sort(arr)\n",
        "        print(arr)"
      ],
      "metadata": {
        "colab": {
          "base_uri": "https://localhost:8080/"
        },
        "id": "6PsXc23RDuPi",
        "outputId": "82f5c9af-cc40-4f9e-fee1-e11e32b82efc"
      },
      "execution_count": 20,
      "outputs": [
        {
          "output_type": "stream",
          "name": "stdout",
          "text": [
            "[3, 7, 8, 10, 15, 23, 29, 98]\n",
            "[]\n",
            "[3]\n",
            "[2, 7, 8, 9]\n",
            "[1, 2, 3, 4, 5]\n"
          ]
        }
      ]
    }
  ]
}