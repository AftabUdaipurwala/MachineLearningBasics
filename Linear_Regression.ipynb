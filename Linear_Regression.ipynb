{
  "nbformat": 4,
  "nbformat_minor": 0,
  "metadata": {
    "colab": {
      "name": "Linear Regression.ipynb",
      "provenance": [],
      "collapsed_sections": [],
      "mount_file_id": "1C67lj3mr2yWDBvkFAjxZi_uJhly4qXyt",
      "authorship_tag": "ABX9TyMnTmkQkiIfkHzM3yUCVyKE",
      "include_colab_link": true
    },
    "kernelspec": {
      "name": "python3",
      "display_name": "Python 3"
    },
    "language_info": {
      "name": "python"
    }
  },
  "cells": [
    {
      "cell_type": "markdown",
      "metadata": {
        "id": "view-in-github",
        "colab_type": "text"
      },
      "source": [
        "<a href=\"https://colab.research.google.com/github/AftabUdaipurwala/MachineLearningBasics/blob/LinearRegression/Linear_Regression.ipynb\" target=\"_parent\"><img src=\"https://colab.research.google.com/assets/colab-badge.svg\" alt=\"Open In Colab\"/></a>"
      ]
    },
    {
      "cell_type": "code",
      "metadata": {
        "colab": {
          "base_uri": "https://localhost:8080/"
        },
        "id": "QWsMQMQGyMqe",
        "outputId": "4f07111b-8b6f-42e9-e24f-cfcfaccf5486"
      },
      "source": [
        "from google.colab import drive\n",
        "drive.mount('/content/drive')"
      ],
      "execution_count": 1,
      "outputs": [
        {
          "output_type": "stream",
          "text": [
            "Mounted at /content/drive\n"
          ],
          "name": "stdout"
        }
      ]
    },
    {
      "cell_type": "code",
      "metadata": {
        "colab": {
          "base_uri": "https://localhost:8080/"
        },
        "id": "hMi7UWyTzdiZ",
        "outputId": "1cd06961-624f-4aad-b0fb-8780b406b646"
      },
      "source": [
        "!ls '/content/drive/MyDrive/py-master/ML/1_linear_reg/Exercise'"
      ],
      "execution_count": 69,
      "outputs": [
        {
          "output_type": "stream",
          "text": [
            "canada_per_capita_income.csv\n"
          ],
          "name": "stdout"
        }
      ]
    },
    {
      "cell_type": "code",
      "metadata": {
        "id": "Yt0CjwrV1rm1"
      },
      "source": [
        "import pandas as pd\n",
        "import numpy as np\n",
        "from sklearn import linear_model\n",
        "import matplotlib.pyplot as plt"
      ],
      "execution_count": 13,
      "outputs": []
    },
    {
      "cell_type": "code",
      "metadata": {
        "colab": {
          "base_uri": "https://localhost:8080/",
          "height": 203
        },
        "id": "2H2XDMZv1yVR",
        "outputId": "10457ed0-5e7b-4b20-ae49-fb0ed89f97ca"
      },
      "source": [
        "df = pd.read_csv('/content/drive/MyDrive/py-master/ML/1_linear_reg/homeprices.csv')\n",
        "df"
      ],
      "execution_count": 14,
      "outputs": [
        {
          "output_type": "execute_result",
          "data": {
            "text/html": [
              "<div>\n",
              "<style scoped>\n",
              "    .dataframe tbody tr th:only-of-type {\n",
              "        vertical-align: middle;\n",
              "    }\n",
              "\n",
              "    .dataframe tbody tr th {\n",
              "        vertical-align: top;\n",
              "    }\n",
              "\n",
              "    .dataframe thead th {\n",
              "        text-align: right;\n",
              "    }\n",
              "</style>\n",
              "<table border=\"1\" class=\"dataframe\">\n",
              "  <thead>\n",
              "    <tr style=\"text-align: right;\">\n",
              "      <th></th>\n",
              "      <th>area</th>\n",
              "      <th>price</th>\n",
              "    </tr>\n",
              "  </thead>\n",
              "  <tbody>\n",
              "    <tr>\n",
              "      <th>0</th>\n",
              "      <td>2600</td>\n",
              "      <td>550000</td>\n",
              "    </tr>\n",
              "    <tr>\n",
              "      <th>1</th>\n",
              "      <td>3000</td>\n",
              "      <td>565000</td>\n",
              "    </tr>\n",
              "    <tr>\n",
              "      <th>2</th>\n",
              "      <td>3200</td>\n",
              "      <td>610000</td>\n",
              "    </tr>\n",
              "    <tr>\n",
              "      <th>3</th>\n",
              "      <td>3600</td>\n",
              "      <td>680000</td>\n",
              "    </tr>\n",
              "    <tr>\n",
              "      <th>4</th>\n",
              "      <td>4000</td>\n",
              "      <td>725000</td>\n",
              "    </tr>\n",
              "  </tbody>\n",
              "</table>\n",
              "</div>"
            ],
            "text/plain": [
              "   area   price\n",
              "0  2600  550000\n",
              "1  3000  565000\n",
              "2  3200  610000\n",
              "3  3600  680000\n",
              "4  4000  725000"
            ]
          },
          "metadata": {},
          "execution_count": 14
        }
      ]
    },
    {
      "cell_type": "markdown",
      "metadata": {
        "id": "6jgl1zw87lnr"
      },
      "source": [
        "Plot scatterplot to see the distribution\n"
      ]
    },
    {
      "cell_type": "code",
      "metadata": {
        "colab": {
          "base_uri": "https://localhost:8080/",
          "height": 296
        },
        "id": "Bf5nDiVI6uto",
        "outputId": "f8f2d42f-60ba-45a8-f279-c609e37259c9"
      },
      "source": [
        "%matplotlib inline\n",
        "plt.xlabel(\"area in sqft\")\n",
        "plt.ylabel(\"price in $\")\n",
        "plt.scatter(df.area,df.price, color=\"red\", marker=\"+\")"
      ],
      "execution_count": 16,
      "outputs": [
        {
          "output_type": "execute_result",
          "data": {
            "text/plain": [
              "<matplotlib.collections.PathCollection at 0x7f7218c57cd0>"
            ]
          },
          "metadata": {},
          "execution_count": 16
        },
        {
          "output_type": "display_data",
          "data": {
            "image/png": "[encoded data removed]",
            "text/plain": [
              "<Figure size 432x288 with 1 Axes>"
            ]
          },
          "metadata": {
            "needs_background": "light"
          }
        }
      ]
    },
    {
      "cell_type": "code",
      "metadata": {
        "colab": {
          "base_uri": "https://localhost:8080/"
        },
        "id": "ZC_8DXgb6xPb",
        "outputId": "9f42b236-d968-4820-eda9-830125822265"
      },
      "source": [
        "# create a linear regression object\n",
        "\n",
        "reg=linear_model.LinearRegression()\n",
        "reg.fit(df[['area']],df.price)"
      ],
      "execution_count": 20,
      "outputs": [
        {
          "output_type": "execute_result",
          "data": {
            "text/plain": [
              "LinearRegression(copy_X=True, fit_intercept=True, n_jobs=None, normalize=False)"
            ]
          },
          "metadata": {},
          "execution_count": 20
        }
      ]
    },
    {
      "cell_type": "markdown",
      "metadata": {
        "id": "fvwDYz3N9DFC"
      },
      "source": [
        "Check for predictions\n"
      ]
    },
    {
      "cell_type": "code",
      "metadata": {
        "colab": {
          "base_uri": "https://localhost:8080/"
        },
        "id": "zRwgffXr6xf1",
        "outputId": "50a5ce9e-3e74-478c-c6e1-1a0ac6600f5d"
      },
      "source": [
        "reg.predict([[3300]])"
      ],
      "execution_count": 22,
      "outputs": [
        {
          "output_type": "execute_result",
          "data": {
            "text/plain": [
              "array([628715.75342466])"
            ]
          },
          "metadata": {},
          "execution_count": 22
        }
      ]
    },
    {
      "cell_type": "markdown",
      "metadata": {
        "id": "KunZSDZB8-wJ"
      },
      "source": [
        "Check for coefficient and intercept\n"
      ]
    },
    {
      "cell_type": "code",
      "metadata": {
        "colab": {
          "base_uri": "https://localhost:8080/"
        },
        "id": "600swVki6xo9",
        "outputId": "53db5f17-f46c-4323-d142-2f0990e6bd83"
      },
      "source": [
        "m=reg.coef_\n",
        "m"
      ],
      "execution_count": 26,
      "outputs": [
        {
          "output_type": "execute_result",
          "data": {
            "text/plain": [
              "array([135.78767123])"
            ]
          },
          "metadata": {},
          "execution_count": 26
        }
      ]
    },
    {
      "cell_type": "code",
      "metadata": {
        "colab": {
          "base_uri": "https://localhost:8080/"
        },
        "id": "iZSDnaM89KWD",
        "outputId": "ab701986-75f6-4684-e56c-53a5bf32f08a"
      },
      "source": [
        "b=reg.intercept_\n",
        "b"
      ],
      "execution_count": 25,
      "outputs": [
        {
          "output_type": "execute_result",
          "data": {
            "text/plain": [
              "180616.43835616432"
            ]
          },
          "metadata": {},
          "execution_count": 25
        }
      ]
    },
    {
      "cell_type": "code",
      "metadata": {
        "colab": {
          "base_uri": "https://localhost:8080/"
        },
        "id": "SJXg6WTD9cKJ",
        "outputId": "0358639f-2798-4cba-91ee-912879c0ff89"
      },
      "source": [
        "x=3300\n",
        "y=m*x+b\n",
        "print(y)"
      ],
      "execution_count": 27,
      "outputs": [
        {
          "output_type": "stream",
          "text": [
            "[628715.75342466]\n"
          ],
          "name": "stdout"
        }
      ]
    },
    {
      "cell_type": "code",
      "metadata": {
        "id": "tDBFe0Sz90QQ"
      },
      "source": [
        "d= pd.read_csv('/content/drive/MyDrive/py-master/ML/1_linear_reg/areas.csv')\n",
        "d.head(3)\n",
        "d1 = d.to_numpy()"
      ],
      "execution_count": 54,
      "outputs": []
    },
    {
      "cell_type": "code",
      "metadata": {
        "colab": {
          "base_uri": "https://localhost:8080/"
        },
        "id": "ZuBcZkFG-GP2",
        "outputId": "bf0aea23-2a47-4696-de6c-ca2325a2d856"
      },
      "source": [
        "p= reg.predict(d1)\n",
        "p"
      ],
      "execution_count": 55,
      "outputs": [
        {
          "output_type": "execute_result",
          "data": {
            "text/plain": [
              "array([ 316404.10958904,  384297.94520548,  492928.08219178,\n",
              "        661304.79452055,  740061.64383562,  799808.21917808,\n",
              "        926090.75342466,  650441.78082192,  825607.87671233,\n",
              "        492928.08219178, 1402705.47945205, 1348390.4109589 ,\n",
              "       1144708.90410959])"
            ]
          },
          "metadata": {},
          "execution_count": 55
        }
      ]
    },
    {
      "cell_type": "code",
      "metadata": {
        "colab": {
          "base_uri": "https://localhost:8080/"
        },
        "id": "xb_IYu4j_WkT",
        "outputId": "b2100369-d123-4000-c503-613b0f47b3b5"
      },
      "source": [
        "p1 = pd.DataFrame(p)\n",
        "p1=p1.round(1)\n",
        "print(p1)"
      ],
      "execution_count": 66,
      "outputs": [
        {
          "output_type": "stream",
          "text": [
            "            0\n",
            "0    316404.1\n",
            "1    384297.9\n",
            "2    492928.1\n",
            "3    661304.8\n",
            "4    740061.6\n",
            "5    799808.2\n",
            "6    926090.8\n",
            "7    650441.8\n",
            "8    825607.9\n",
            "9    492928.1\n",
            "10  1402705.5\n",
            "11  1348390.4\n",
            "12  1144708.9\n"
          ],
          "name": "stdout"
        }
      ]
    },
    {
      "cell_type": "code",
      "metadata": {
        "colab": {
          "base_uri": "https://localhost:8080/"
        },
        "id": "WwlflcQJAAzn",
        "outputId": "933eac27-53d4-4552-9956-35efac7d84c7"
      },
      "source": [
        "frames =[d,p1]\n",
        "df= pd.concat(frames, axis=1)\n",
        "df.columns=['Area','Prices']\n",
        "print(df)"
      ],
      "execution_count": 67,
      "outputs": [
        {
          "output_type": "stream",
          "text": [
            "    Area     Prices\n",
            "0   1000   316404.1\n",
            "1   1500   384297.9\n",
            "2   2300   492928.1\n",
            "3   3540   661304.8\n",
            "4   4120   740061.6\n",
            "5   4560   799808.2\n",
            "6   5490   926090.8\n",
            "7   3460   650441.8\n",
            "8   4750   825607.9\n",
            "9   2300   492928.1\n",
            "10  9000  1402705.5\n",
            "11  8600  1348390.4\n",
            "12  7100  1144708.9\n"
          ],
          "name": "stdout"
        }
      ]
    },
    {
      "cell_type": "code",
      "metadata": {
        "colab": {
          "base_uri": "https://localhost:8080/",
          "height": 307
        },
        "id": "wFtp36p9C9hN",
        "outputId": "47de19c4-4bc4-453e-cee3-443f00d04d80"
      },
      "source": [
        "%matplotlib inline\n",
        "plt.xlabel(\"area in sqft\")\n",
        "plt.ylabel(\"price in $\")\n",
        "plt.scatter(df.Area,df.Prices, color=\"red\", marker=\"+\")\n",
        "plt.plot(df.Area,df.Prices, color=\"blue\")"
      ],
      "execution_count": 68,
      "outputs": [
        {
          "output_type": "execute_result",
          "data": {
            "text/plain": [
              "[<matplotlib.lines.Line2D at 0x7f7217d46d10>]"
            ]
          },
          "metadata": {},
          "execution_count": 68
        },
        {
          "output_type": "display_data",
          "data": {
            "image/png": "[encoded data removed]",
            "text/plain": [
              "<Figure size 432x288 with 1 Axes>"
            ]
          },
          "metadata": {
            "needs_background": "light"
          }
        }
      ]
    },
    {
      "cell_type": "markdown",
      "metadata": {
        "id": "QSdeO8PAE_Pf"
      },
      "source": [
        "***Excercise Problem to be solved***"
      ]
    },
    {
      "cell_type": "code",
      "metadata": {
        "colab": {
          "base_uri": "https://localhost:8080/",
          "height": 172
        },
        "id": "BRTBcYDoEHGP",
        "outputId": "12bca87a-2ccf-4675-b884-018386c2199e"
      },
      "source": [
        "df = pd.read_csv('/content/drive/MyDrive/py-master/ML/1_linear_reg/Exercise/canada_per_capita_income.csv')\n",
        "df.columns =['year','income']\n",
        "df.tail(4)\n"
      ],
      "execution_count": 76,
      "outputs": [
        {
          "output_type": "execute_result",
          "data": {
            "text/html": [
              "<div>\n",
              "<style scoped>\n",
              "    .dataframe tbody tr th:only-of-type {\n",
              "        vertical-align: middle;\n",
              "    }\n",
              "\n",
              "    .dataframe tbody tr th {\n",
              "        vertical-align: top;\n",
              "    }\n",
              "\n",
              "    .dataframe thead th {\n",
              "        text-align: right;\n",
              "    }\n",
              "</style>\n",
              "<table border=\"1\" class=\"dataframe\">\n",
              "  <thead>\n",
              "    <tr style=\"text-align: right;\">\n",
              "      <th></th>\n",
              "      <th>year</th>\n",
              "      <th>income</th>\n",
              "    </tr>\n",
              "  </thead>\n",
              "  <tbody>\n",
              "    <tr>\n",
              "      <th>43</th>\n",
              "      <td>2013</td>\n",
              "      <td>42676.46837</td>\n",
              "    </tr>\n",
              "    <tr>\n",
              "      <th>44</th>\n",
              "      <td>2014</td>\n",
              "      <td>41039.89360</td>\n",
              "    </tr>\n",
              "    <tr>\n",
              "      <th>45</th>\n",
              "      <td>2015</td>\n",
              "      <td>35175.18898</td>\n",
              "    </tr>\n",
              "    <tr>\n",
              "      <th>46</th>\n",
              "      <td>2016</td>\n",
              "      <td>34229.19363</td>\n",
              "    </tr>\n",
              "  </tbody>\n",
              "</table>\n",
              "</div>"
            ],
            "text/plain": [
              "    year       income\n",
              "43  2013  42676.46837\n",
              "44  2014  41039.89360\n",
              "45  2015  35175.18898\n",
              "46  2016  34229.19363"
            ]
          },
          "metadata": {},
          "execution_count": 76
        }
      ]
    },
    {
      "cell_type": "code",
      "metadata": {
        "colab": {
          "base_uri": "https://localhost:8080/"
        },
        "id": "M47rEHybEckY",
        "outputId": "e49a3d9e-af95-4bc4-83d4-8e820dde6fde"
      },
      "source": [
        "reg =linear_model.LinearRegression()\n",
        "reg.fit(df[['year']],df.income)"
      ],
      "execution_count": 73,
      "outputs": [
        {
          "output_type": "execute_result",
          "data": {
            "text/plain": [
              "LinearRegression(copy_X=True, fit_intercept=True, n_jobs=None, normalize=False)"
            ]
          },
          "metadata": {},
          "execution_count": 73
        }
      ]
    },
    {
      "cell_type": "code",
      "metadata": {
        "colab": {
          "base_uri": "https://localhost:8080/"
        },
        "id": "QpqWbXcWE5zk",
        "outputId": "93db03fa-82c5-4f8a-8ca5-a29db5c62a94"
      },
      "source": [
        "reg.predict([[2020]])"
      ],
      "execution_count": 74,
      "outputs": [
        {
          "output_type": "execute_result",
          "data": {
            "text/plain": [
              "array([41288.69409442])"
            ]
          },
          "metadata": {},
          "execution_count": 74
        }
      ]
    },
    {
      "cell_type": "code",
      "metadata": {
        "colab": {
          "base_uri": "https://localhost:8080/",
          "height": 296
        },
        "id": "NDcfcQeFFHt9",
        "outputId": "5abc0996-73c0-471a-fead-8c33b6651487"
      },
      "source": [
        "%matplotlib inline\n",
        "plt.xlabel(\"Year\")\n",
        "plt.ylabel(\"Income in $\")\n",
        "plt.scatter(df.year,df.income, color=\"red\", marker=\"+\")\n",
        "plt.plot(df.year,df.income, color=\"blue\")"
      ],
      "execution_count": 75,
      "outputs": [
        {
          "output_type": "execute_result",
          "data": {
            "text/plain": [
              "[<matplotlib.lines.Line2D at 0x7f7218c2c210>]"
            ]
          },
          "metadata": {},
          "execution_count": 75
        },
        {
          "output_type": "display_data",
          "data": {
            "image/png": "[encoded data removed]",
            "text/plain": [
              "<Figure size 432x288 with 1 Axes>"
            ]
          },
          "metadata": {
            "needs_background": "light"
          }
        }
      ]
    }
  ]
}