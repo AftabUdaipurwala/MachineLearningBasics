{
  "nbformat": 4,
  "nbformat_minor": 0,
  "metadata": {
    "colab": {
      "provenance": [],
      "collapsed_sections": [],
      "authorship_tag": "ABX9TyNv8URsv5j3vgB3obhamJ2S",
      "include_colab_link": true
    },
    "kernelspec": {
      "name": "python3",
      "display_name": "Python 3"
    },
    "language_info": {
      "name": "python"
    }
  },
  "cells": [
    {
      "cell_type": "markdown",
      "metadata": {
        "id": "view-in-github",
        "colab_type": "text"
      },
      "source": [
        "<a href=\"https://colab.research.google.com/github/AftabUdaipurwala/MachineLearningBasics/blob/ClassificationModels/16_Recursion_Python%7C_Data_Structures_%26_Algorithms_Tutorial_Python.ipynb\" target=\"_parent\"><img src=\"https://colab.research.google.com/assets/colab-badge.svg\" alt=\"Open In Colab\"/></a>"
      ]
    },
    {
      "cell_type": "code",
      "execution_count": 7,
      "metadata": {
        "id": "43fs4PqjvWyS"
      },
      "outputs": [],
      "source": [
        "# Yeh hai normal zindagi\n",
        "def find_sum(val):\n",
        "    sum_of_val=0\n",
        "    while val>0:\n",
        "        sum_of_val = sum_of_val+val\n",
        "        val-=1\n",
        "    return sum_of_val\n"
      ]
    },
    {
      "cell_type": "code",
      "source": [
        "# yeh hai mentos zindagi\n",
        "def find_sum(val):\n",
        "    if val==1:\n",
        "        return 1\n",
        "    return val+ find_sum(val-1)\n",
        "\n"
      ],
      "metadata": {
        "id": "95XhpAb_yTt1"
      },
      "execution_count": 16,
      "outputs": []
    },
    {
      "cell_type": "code",
      "source": [
        "find_sum(5)"
      ],
      "metadata": {
        "colab": {
          "base_uri": "https://localhost:8080/"
        },
        "id": "Yp5p_euFxiID",
        "outputId": "bae8b5ee-c94c-49ea-bd0d-a9fcf8fd9cd4"
      },
      "execution_count": 17,
      "outputs": [
        {
          "output_type": "execute_result",
          "data": {
            "text/plain": [
              "15"
            ]
          },
          "metadata": {},
          "execution_count": 17
        }
      ]
    },
    {
      "cell_type": "code",
      "source": [
        "# fibonacci series creation\n",
        "def fibonacci_series(val):\n",
        "    if val==1 or val==0:\n",
        "        return val\n",
        "    return fibonacci_series(val-1)+fibonacci_series(val-2)\n"
      ],
      "metadata": {
        "id": "g5VU-4k3zyD7"
      },
      "execution_count": 18,
      "outputs": []
    },
    {
      "cell_type": "code",
      "source": [
        "fibonacci_series(6)"
      ],
      "metadata": {
        "colab": {
          "base_uri": "https://localhost:8080/"
        },
        "id": "BJ1lu2p-0mP0",
        "outputId": "3ce44245-557b-4f53-9927-b0d0e9dcdfff"
      },
      "execution_count": 20,
      "outputs": [
        {
          "output_type": "execute_result",
          "data": {
            "text/plain": [
              "8"
            ]
          },
          "metadata": {},
          "execution_count": 20
        }
      ]
    }
  ]
}