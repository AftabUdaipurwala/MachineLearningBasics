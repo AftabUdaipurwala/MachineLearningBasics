{
  "nbformat": 4,
  "nbformat_minor": 0,
  "metadata": {
    "colab": {
      "provenance": [],
      "authorship_tag": "ABX9TyOmU/AdHLbc28Iz1zmKZvDX",
      "include_colab_link": true
    },
    "kernelspec": {
      "name": "python3",
      "display_name": "Python 3"
    },
    "language_info": {
      "name": "python"
    }
  },
  "cells": [
    {
      "cell_type": "markdown",
      "metadata": {
        "id": "view-in-github",
        "colab_type": "text"
      },
      "source": [
        "<a href=\"https://colab.research.google.com/github/AftabUdaipurwala/MachineLearningBasics/blob/ClassificationModels/12_Insertion_Sort_Data_Structures_%26_Algorithms_Tutorial_Python.ipynb\" target=\"_parent\"><img src=\"https://colab.research.google.com/assets/colab-badge.svg\" alt=\"Open In Colab\"/></a>"
      ]
    },
    {
      "cell_type": "code",
      "source": [
        "def insertion_sort(elements):\n",
        "    for i in range(1,len(elements)):\n",
        "        anchor = elements[i]\n",
        "        j = i-1\n",
        "        while j>=0 and anchor<elements[j]:\n",
        "            elements[j+1]=elements[j]\n",
        "            j-=1\n",
        "        elements[j+1]=anchor\n",
        "        return elements"
      ],
      "metadata": {
        "id": "x4eAWyafKxri"
      },
      "execution_count": 1,
      "outputs": []
    },
    {
      "cell_type": "code",
      "execution_count": 2,
      "metadata": {
        "colab": {
          "base_uri": "https://localhost:8080/"
        },
        "id": "psDi-A5LBLAz",
        "outputId": "fcbf9942-598e-4bc4-c7d2-8916b95ac3ed"
      },
      "outputs": [
        {
          "output_type": "stream",
          "name": "stdout",
          "text": [
            "[11, 15, 7, 9, 8, 2]\n"
          ]
        }
      ],
      "source": [
        "if __name__==\"__main__\":\n",
        "    elements = [11,15,7,9,8,2]\n",
        "    print(insertion_sort(elements))"
      ]
    },
    {
      "cell_type": "code",
      "source": [
        "test_cases = [[11,9,29,7,2,15,28],\n",
        "              [],\n",
        "              [6],\n",
        "              [1,2,3,4]]\n",
        "for elements in test_cases:\n",
        "    print(insertion_sort(elements))"
      ],
      "metadata": {
        "colab": {
          "base_uri": "https://localhost:8080/"
        },
        "id": "ImZVmca3MONK",
        "outputId": "1af792fe-db38-48d0-d00f-d6a964d32b47"
      },
      "execution_count": 3,
      "outputs": [
        {
          "output_type": "stream",
          "name": "stdout",
          "text": [
            "[9, 11, 29, 7, 2, 15, 28]\n",
            "None\n",
            "None\n",
            "[1, 2, 3, 4]\n"
          ]
        }
      ]
    }
  ]
}