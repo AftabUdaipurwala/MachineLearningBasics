{
  "nbformat": 4,
  "nbformat_minor": 0,
  "metadata": {
    "colab": {
      "provenance": [],
      "authorship_tag": "ABX9TyNUYdX4NQ6HSDfOENk7UKVw",
      "include_colab_link": true
    },
    "kernelspec": {
      "name": "python3",
      "display_name": "Python 3"
    },
    "language_info": {
      "name": "python"
    }
  },
  "cells": [
    {
      "cell_type": "markdown",
      "metadata": {
        "id": "view-in-github",
        "colab_type": "text"
      },
      "source": [
        "<a href=\"https://colab.research.google.com/github/AftabUdaipurwala/MachineLearningBasics/blob/ClassificationModels/Distances.ipynb\" target=\"_parent\"><img src=\"https://colab.research.google.com/assets/colab-badge.svg\" alt=\"Open In Colab\"/></a>"
      ]
    },
    {
      "cell_type": "markdown",
      "source": [
        "# Euclidean Distance"
      ],
      "metadata": {
        "id": "nivRwNhMg5e6"
      }
    },
    {
      "cell_type": "code",
      "execution_count": 27,
      "metadata": {
        "id": "KcsgD2Reg1o1"
      },
      "outputs": [],
      "source": [
        "import random\n",
        "import numpy as np\n",
        "def Euclidean_dist(l1,l2):\n",
        "    xcentre = random.choice(l1)\n",
        "    ycentre = random.choice(l2)\n",
        "    l1.remove(xcentre)\n",
        "    l2.remove(ycentre)\n",
        "    xdist=0\n",
        "    ydist=0\n",
        "    print(xcentre,ycentre)\n",
        "    print(l1,l2)\n",
        "    for x,y in zip(l1,l2):\n",
        "        print(x,y)\n",
        "        xdist+=(xcentre-x)**2\n",
        "        ydist+=(ycentre-y)**2\n",
        "        print(xdist,ydist)\n",
        "    ED = np.sqrt(xdist+ydist)\n",
        "    return ED\n"
      ]
    },
    {
      "cell_type": "code",
      "source": [
        "l1 = [2,3,4,5,6,7,8]\n",
        "l2 = [4,5,6,7,8,9,10]"
      ],
      "metadata": {
        "id": "u-at3BPsoivc"
      },
      "execution_count": 28,
      "outputs": []
    },
    {
      "cell_type": "code",
      "source": [
        "print(Euclidean_dist(l1,l2))"
      ],
      "metadata": {
        "colab": {
          "base_uri": "https://localhost:8080/"
        },
        "id": "Y5GuqRtHosIl",
        "outputId": "4337dd12-0944-4d2f-8b8c-00e55267cfaa"
      },
      "execution_count": 29,
      "outputs": [
        {
          "output_type": "stream",
          "name": "stdout",
          "text": [
            "6 5\n",
            "[2, 3, 4, 5, 7, 8] [4, 6, 7, 8, 9, 10]\n",
            "2 4\n",
            "16 1\n",
            "3 6\n",
            "25 2\n",
            "4 7\n",
            "29 6\n",
            "5 8\n",
            "30 15\n",
            "7 9\n",
            "31 31\n",
            "8 10\n",
            "35 56\n",
            "9.539392014169456\n"
          ]
        }
      ]
    },
    {
      "cell_type": "code",
      "source": [
        "import numpy as np\n",
        " \n",
        "# initializing points in\n",
        "# numpy arrays\n",
        "point1 = np.array((2,3,4,5,6,7,8))\n",
        "point2 = np.array((4,5,6,7,8,9,10))\n",
        " \n",
        "# finding sum of squares\n",
        "sum_sq = np.sum(np.square(point1 - point2))\n",
        " \n",
        "# Doing squareroot and\n",
        "# printing Euclidean distance\n",
        "print(np.sqrt(sum_sq))"
      ],
      "metadata": {
        "colab": {
          "base_uri": "https://localhost:8080/"
        },
        "id": "CEBQTUHSpC98",
        "outputId": "1483550d-26d8-4581-da3b-3ddb64bd0424"
      },
      "execution_count": 30,
      "outputs": [
        {
          "output_type": "stream",
          "name": "stdout",
          "text": [
            "5.291502622129181\n"
          ]
        }
      ]
    }
  ]
}