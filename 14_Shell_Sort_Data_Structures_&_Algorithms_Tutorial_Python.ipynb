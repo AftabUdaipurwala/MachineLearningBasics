{
  "nbformat": 4,
  "nbformat_minor": 0,
  "metadata": {
    "colab": {
      "provenance": [],
      "collapsed_sections": [],
      "authorship_tag": "ABX9TyPPmu0ghKsH9swxKaCqxlnd",
      "include_colab_link": true
    },
    "kernelspec": {
      "name": "python3",
      "display_name": "Python 3"
    },
    "language_info": {
      "name": "python"
    }
  },
  "cells": [
    {
      "cell_type": "markdown",
      "metadata": {
        "id": "view-in-github",
        "colab_type": "text"
      },
      "source": [
        "<a href=\"https://colab.research.google.com/github/AftabUdaipurwala/MachineLearningBasics/blob/ClassificationModels/14_Shell_Sort_Data_Structures_%26_Algorithms_Tutorial_Python.ipynb\" target=\"_parent\"><img src=\"https://colab.research.google.com/assets/colab-badge.svg\" alt=\"Open In Colab\"/></a>"
      ]
    },
    {
      "cell_type": "code",
      "execution_count": 16,
      "metadata": {
        "id": "W1oWF8-TQpuX"
      },
      "outputs": [],
      "source": [
        "def shell_sort(arr):\n",
        "    size = len(arr)\n",
        "    gap = size//2\n",
        "\n",
        "    while gap > 0:\n",
        "        for i in range(gap,size):\n",
        "            anchor = arr[i]\n",
        "            j = i\n",
        "            while j>=gap and arr[j-gap]>anchor:\n",
        "                arr[j] = arr[j-gap]\n",
        "                j -= gap\n",
        "            arr[j] = anchor\n",
        "        gap = gap // 2       \n",
        "    return elements\n",
        "\n"
      ]
    },
    {
      "cell_type": "code",
      "source": [
        "if __name__=='__main__':\n",
        "    elements=[11,29,65,35,15,75,32]\n",
        "    print(shell_sort(elements))"
      ],
      "metadata": {
        "colab": {
          "base_uri": "https://localhost:8080/"
        },
        "id": "xTauzOavuPWY",
        "outputId": "c61f9ef6-7a48-4552-f36d-ccaec1fa32d4"
      },
      "execution_count": 17,
      "outputs": [
        {
          "output_type": "stream",
          "name": "stdout",
          "text": [
            "[11, 15, 29, 32, 35, 65, 75]\n"
          ]
        }
      ]
    }
  ]
}