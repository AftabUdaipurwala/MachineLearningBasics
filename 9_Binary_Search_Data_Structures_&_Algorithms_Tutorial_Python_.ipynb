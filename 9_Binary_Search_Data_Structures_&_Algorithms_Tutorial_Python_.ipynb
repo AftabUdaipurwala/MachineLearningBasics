{
  "nbformat": 4,
  "nbformat_minor": 0,
  "metadata": {
    "colab": {
      "provenance": [],
      "authorship_tag": "ABX9TyPflsu7Zz7gfXd2bMPwe7DR",
      "include_colab_link": true
    },
    "kernelspec": {
      "name": "python3",
      "display_name": "Python 3"
    },
    "language_info": {
      "name": "python"
    }
  },
  "cells": [
    {
      "cell_type": "markdown",
      "metadata": {
        "id": "view-in-github",
        "colab_type": "text"
      },
      "source": [
        "<a href=\"https://colab.research.google.com/github/AftabUdaipurwala/MachineLearningBasics/blob/ClassificationModels/9_Binary_Search_Data_Structures_%26_Algorithms_Tutorial_Python_.ipynb\" target=\"_parent\"><img src=\"https://colab.research.google.com/assets/colab-badge.svg\" alt=\"Open In Colab\"/></a>"
      ]
    },
    {
      "cell_type": "markdown",
      "source": [
        "# Decorator"
      ],
      "metadata": {
        "id": "-yJaHb-zxnVo"
      }
    },
    {
      "cell_type": "code",
      "source": [
        "import time\n",
        "def time_it(function):\n",
        "    def wrapper(*args,**kwargs):\n",
        "        start = time.time()\n",
        "        result = function(*args,**kwargs)\n",
        "        end=time.time()\n",
        "        print(f'{function.__name__} took {(end-start)*1000}milisecs')\n",
        "        return result\n",
        "    return wrapper"
      ],
      "metadata": {
        "id": "raCCfvb8xosR"
      },
      "execution_count": 12,
      "outputs": []
    },
    {
      "cell_type": "markdown",
      "source": [
        "#Linear Search"
      ],
      "metadata": {
        "id": "-IGwB1dZuEPe"
      }
    },
    {
      "cell_type": "code",
      "execution_count": 14,
      "metadata": {
        "id": "m4rvaSkUAjin"
      },
      "outputs": [],
      "source": [
        "@time_it\n",
        "def linear_search(list_in, number_to_search):\n",
        "    for index,element in enumerate(list_in):\n",
        "        if number_to_search ==element:\n",
        "            return index\n",
        "    return -1\n"
      ]
    },
    {
      "cell_type": "markdown",
      "source": [
        "#Binary Search"
      ],
      "metadata": {
        "id": "3QEuQcwKxjAz"
      }
    },
    {
      "cell_type": "code",
      "source": [
        "@time_it\n",
        "def binary_search(list_in,number_to_search):\n",
        "    left_index = 0\n",
        "    right_index = len(list_in)-1\n",
        "    mid_index =0\n",
        "    while left_index<=right_index:\n",
        "        mid_index = (left_index+right_index)//2\n",
        "        mid_number = list_in[mid_index]\n",
        "        if mid_number == number_to_search:\n",
        "            return mid_index\n",
        "        if mid_number < number_to_search:\n",
        "            left_index= mid_index+1\n",
        "        else:\n",
        "            right_index=mid_index-1\n",
        "    return -1\n"
      ],
      "metadata": {
        "id": "fnQYM81FudMo"
      },
      "execution_count": 13,
      "outputs": []
    },
    {
      "cell_type": "markdown",
      "source": [
        "# Recurvise Binary Search"
      ],
      "metadata": {
        "id": "35sf0JAay7G7"
      }
    },
    {
      "cell_type": "code",
      "source": [
        "def binary_recursive(list_in,number_to_find,left_index,right_index):\n",
        "    if right_index<left_index:\n",
        "        return -1\n",
        "    mid_index = (left_index+right_index)//2\n",
        "    if mid_index>=len(list_in) or mid_index<0:\n",
        "        return-1\n",
        "    mid_number = list_in[mid_index]\n",
        "    if mid_number == number_to_find:\n",
        "            return mid_index\n",
        "    if mid_number < number_to_find:\n",
        "        left_index= mid_index+1\n",
        "    else:\n",
        "        right_index=mid_index-1\n",
        "    return binary_recursive(list_in,number_to_find,left_index,right_index)"
      ],
      "metadata": {
        "id": "bCrTmcy7y91H"
      },
      "execution_count": 36,
      "outputs": []
    },
    {
      "cell_type": "markdown",
      "source": [
        "#Evaluating"
      ],
      "metadata": {
        "id": "F3IPFz0syg2n"
      }
    },
    {
      "cell_type": "code",
      "source": [
        "if __name__=='__main__':\n",
        "    number_list = [x for x in range(1000000)]\n",
        "    number_to_find = 999999\n",
        "    index = linear_search(number_list,number_to_find)\n",
        "    print(index)"
      ],
      "metadata": {
        "colab": {
          "base_uri": "https://localhost:8080/"
        },
        "id": "0cY_wTznuc90",
        "outputId": "8007e749-f603-4cc6-c9b0-58a669216752"
      },
      "execution_count": 19,
      "outputs": [
        {
          "output_type": "stream",
          "name": "stdout",
          "text": [
            "linear_search took 46.58675193786621milisecs\n",
            "999999\n"
          ]
        }
      ]
    },
    {
      "cell_type": "code",
      "source": [
        "if __name__=='__main__':\n",
        "    number_list = [x for x in range(1000000)]\n",
        "    number_to_find = 999999\n",
        "    index = binary_search(number_list,number_to_find)\n",
        "    print(index)"
      ],
      "metadata": {
        "colab": {
          "base_uri": "https://localhost:8080/"
        },
        "id": "_tnMou-rwdj5",
        "outputId": "e99619a7-c407-4cf0-c0ff-820bf4ab9e10"
      },
      "execution_count": 22,
      "outputs": [
        {
          "output_type": "stream",
          "name": "stdout",
          "text": [
            "binary_search took 0.011682510375976562milisecs\n",
            "999999\n"
          ]
        }
      ]
    },
    {
      "cell_type": "code",
      "source": [
        "if __name__=='__main__':\n",
        "    number_list = [1,12,14,15,28,67,74,85]\n",
        "    number_to_find = 99999\n",
        "    index = binary_recursive(number_list,number_to_find,0,len(number_list))\n",
        "    print(index)"
      ],
      "metadata": {
        "colab": {
          "base_uri": "https://localhost:8080/"
        },
        "id": "PUrIydY1z12z",
        "outputId": "d016c700-1fba-4dc2-96a0-a371bbf969ea"
      },
      "execution_count": 37,
      "outputs": [
        {
          "output_type": "stream",
          "name": "stdout",
          "text": [
            "-1\n"
          ]
        }
      ]
    }
  ]
}