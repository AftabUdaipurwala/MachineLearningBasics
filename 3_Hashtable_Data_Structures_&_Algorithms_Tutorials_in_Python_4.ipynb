{
  "nbformat": 4,
  "nbformat_minor": 0,
  "metadata": {
    "colab": {
      "provenance": [],
      "collapsed_sections": [],
      "authorship_tag": "ABX9TyNPEW0Nd1hpo1MrjUcy9ca4",
      "include_colab_link": true
    },
    "kernelspec": {
      "name": "python3",
      "display_name": "Python 3"
    },
    "language_info": {
      "name": "python"
    }
  },
  "cells": [
    {
      "cell_type": "markdown",
      "metadata": {
        "id": "view-in-github",
        "colab_type": "text"
      },
      "source": [
        "<a href=\"https://colab.research.google.com/github/AftabUdaipurwala/MachineLearningBasics/blob/ClassificationModels/3_Hashtable_Data_Structures_%26_Algorithms_Tutorials_in_Python_4.ipynb\" target=\"_parent\"><img src=\"https://colab.research.google.com/assets/colab-badge.svg\" alt=\"Open In Colab\"/></a>"
      ]
    },
    {
      "cell_type": "code",
      "execution_count": null,
      "metadata": {
        "id": "puL2ImuT4UzZ"
      },
      "outputs": [],
      "source": [
        "class Hashtable:\n",
        "\n",
        "    def __init__(self):\n",
        "        self.MAX = 100\n",
        "        self.arr = [None for i in range(self.MAX)] # this will create an array of 100 items with values as None\n",
        "    \n",
        "    def get_hash(self,key): # this is a function created to get the hash value\n",
        "        h=0\n",
        "        for i in key:\n",
        "            h+=ord(i)\n",
        "            h = h%self.MAX\n",
        "        return h\n",
        "    \n",
        "    def __setitem__(self,key,value):\n",
        "        h = self.get_hash(key)\n",
        "        self.arr[h]=value\n",
        "    \n",
        "    def __getitem__(self,key):\n",
        "        h = self.get_hash(key)\n",
        "        return self.arr[h]\n",
        "    \n",
        "    def __delitem__(self,key):\n",
        "        h = self.get_hash(key)\n",
        "        self.arr[h]=None"
      ]
    },
    {
      "cell_type": "code",
      "source": [
        "tab = Hashtable()\n",
        "print(tab.arr)"
      ],
      "metadata": {
        "colab": {
          "base_uri": "https://localhost:8080/"
        },
        "id": "_P8Z-D7H5czv",
        "outputId": "7576db13-fa1d-4b5d-c3c1-9c8100ee175b"
      },
      "execution_count": null,
      "outputs": [
        {
          "output_type": "stream",
          "name": "stdout",
          "text": [
            "[None, None, None, None, None, None, None, None, None, None, None, None, None, None, None, None, None, None, None, None, None, None, None, None, None, None, None, None, None, None, None, None, None, None, None, None, None, None, None, None, None, None, None, None, None, None, None, None, None, None, None, None, None, None, None, None, None, None, None, None, None, None, None, None, None, None, None, None, None, None, None, None, None, None, None, None, None, None, None, None, None, None, None, None, None, None, None, None, None, None, None, None, None, None, None, None, None, None, None, None]\n"
          ]
        }
      ]
    },
    {
      "cell_type": "code",
      "source": [
        "tab['march 9']=900"
      ],
      "metadata": {
        "id": "ugghjZNc5cp9"
      },
      "execution_count": null,
      "outputs": []
    },
    {
      "cell_type": "code",
      "source": [
        "tab['march 9']"
      ],
      "metadata": {
        "colab": {
          "base_uri": "https://localhost:8080/"
        },
        "id": "Imtjhg3f5cYu",
        "outputId": "4c9d038b-d58a-489a-b863-2a2acb247da4"
      },
      "execution_count": null,
      "outputs": [
        {
          "output_type": "execute_result",
          "data": {
            "text/plain": [
              "900"
            ]
          },
          "metadata": {},
          "execution_count": 11
        }
      ]
    },
    {
      "cell_type": "code",
      "source": [
        "print(tab.arr)"
      ],
      "metadata": {
        "colab": {
          "base_uri": "https://localhost:8080/"
        },
        "id": "nZ4nBYxk6NDf",
        "outputId": "b90b4db3-43ce-43f0-c77c-2ff4e474ae4b"
      },
      "execution_count": null,
      "outputs": [
        {
          "output_type": "stream",
          "name": "stdout",
          "text": [
            "[None, None, None, None, None, None, None, None, None, None, None, None, 900, None, None, None, None, None, None, None, None, None, None, None, None, None, None, None, None, None, None, None, None, None, None, None, None, None, None, None, None, None, None, None, None, None, None, None, None, None, None, None, None, None, None, None, None, None, None, None, None, None, None, None, None, None, None, None, None, None, None, None, None, None, None, None, None, None, None, None, None, None, None, None, None, None, None, None, None, None, None, None, None, None, None, None, None, None, None, None]\n"
          ]
        }
      ]
    },
    {
      "cell_type": "code",
      "source": [
        "del tab['march 9']\n",
        "print(tab.arr)"
      ],
      "metadata": {
        "colab": {
          "base_uri": "https://localhost:8080/"
        },
        "id": "W_TKrl356TAf",
        "outputId": "48974c33-87de-41f6-d617-fbb81f2494cd"
      },
      "execution_count": null,
      "outputs": [
        {
          "output_type": "stream",
          "name": "stdout",
          "text": [
            "[None, None, None, None, None, None, None, None, None, None, None, None, None, None, None, None, None, None, None, None, None, None, None, None, None, None, None, None, None, None, None, None, None, None, None, None, None, None, None, None, None, None, None, None, None, None, None, None, None, None, None, None, None, None, None, None, None, None, None, None, None, None, None, None, None, None, None, None, None, None, None, None, None, None, None, None, None, None, None, None, None, None, None, None, None, None, None, None, None, None, None, None, None, None, None, None, None, None, None, None]\n"
          ]
        }
      ]
    },
    {
      "cell_type": "markdown",
      "source": [
        "# handling collisions"
      ],
      "metadata": {
        "id": "TjRamhQWwGoL"
      }
    },
    {
      "cell_type": "code",
      "source": [
        "class Hashtable:\n",
        "\n",
        "    def __init__(self):\n",
        "        self.MAX = 100\n",
        "        self.arr = [[] for i in range(self.MAX)] # this will create an array of 100 items with arary inside it\n",
        "    \n",
        "    def get_hash(self,key): # this is a function created to get the hash value\n",
        "        h=0\n",
        "        for i in key:\n",
        "            h+=ord(i)\n",
        "            h = h%self.MAX\n",
        "        return h\n",
        "    \n",
        "    def __setitem__(self,key,value):\n",
        "        h = self.get_hash(key)\n",
        "        found=False\n",
        "        for idx,element in enumerate(self.arr[h]):\n",
        "            if len(element)==2 and element[0]==key:\n",
        "                self.arr[h][idx]=(key,value)\n",
        "                found=True\n",
        "                break\n",
        "        if not found:\n",
        "            self.arr[h].append((key,value))\n",
        "\n",
        "\n",
        "    def __getitem__(self,key):\n",
        "        h = self.get_hash(key)\n",
        "        for element in self.arr[h]:\n",
        "            if element[0]==key:\n",
        "                return element[1]\n",
        "            \n",
        "    \n",
        "    def __delitem__(self,key):\n",
        "        h = self.get_hash(key)\n",
        "        for idx, element in enumerate(self.arr[h]):\n",
        "            if element[0]==key:\n",
        "                del self.arr[h][idx]\n",
        "        "
      ],
      "metadata": {
        "id": "Xx3WC7cNwI7b"
      },
      "execution_count": 25,
      "outputs": []
    },
    {
      "cell_type": "code",
      "source": [
        "t=Hashtable()\n",
        "t['march 6']=459\n",
        "t['march 6']=120\n",
        "t['march 17']=123\n",
        "print(t['march 6'])\n"
      ],
      "metadata": {
        "colab": {
          "base_uri": "https://localhost:8080/"
        },
        "id": "GOi1HlWWxW1T",
        "outputId": "2cce7f14-c754-4071-fcc3-331108e0750b"
      },
      "execution_count": 26,
      "outputs": [
        {
          "output_type": "stream",
          "name": "stdout",
          "text": [
            "120\n"
          ]
        }
      ]
    },
    {
      "cell_type": "code",
      "source": [
        "print(t.arr)"
      ],
      "metadata": {
        "colab": {
          "base_uri": "https://localhost:8080/"
        },
        "id": "OB0fYarpx-9O",
        "outputId": "cf33abb6-db7c-4705-93f3-16b0a2057849"
      },
      "execution_count": 27,
      "outputs": [
        {
          "output_type": "stream",
          "name": "stdout",
          "text": [
            "[[], [], [], [], [], [], [], [], [], [('march 6', 120)], [], [], [], [], [], [], [], [], [], [], [], [], [], [], [], [], [], [], [], [], [], [], [], [], [], [], [], [], [], [], [], [], [], [], [], [], [], [], [], [], [], [], [], [], [], [], [], [], [], [('march 17', 123)], [], [], [], [], [], [], [], [], [], [], [], [], [], [], [], [], [], [], [], [], [], [], [], [], [], [], [], [], [], [], [], [], [], [], [], [], [], [], [], []]\n"
          ]
        }
      ]
    },
    {
      "cell_type": "code",
      "source": [
        "t['march 17']"
      ],
      "metadata": {
        "colab": {
          "base_uri": "https://localhost:8080/"
        },
        "id": "MtI-H2MqynxR",
        "outputId": "122bf3a5-873b-4f10-c2cb-c7d614b430df"
      },
      "execution_count": 28,
      "outputs": [
        {
          "output_type": "execute_result",
          "data": {
            "text/plain": [
              "123"
            ]
          },
          "metadata": {},
          "execution_count": 28
        }
      ]
    },
    {
      "cell_type": "code",
      "source": [
        "del t['march 17']"
      ],
      "metadata": {
        "id": "JAUYzG-NzYwL"
      },
      "execution_count": 29,
      "outputs": []
    },
    {
      "cell_type": "code",
      "source": [
        "print(t.arr)"
      ],
      "metadata": {
        "colab": {
          "base_uri": "https://localhost:8080/"
        },
        "id": "6c4yeYoozdD1",
        "outputId": "a8c4c888-3c13-41eb-e8f2-58096fb5524f"
      },
      "execution_count": 30,
      "outputs": [
        {
          "output_type": "stream",
          "name": "stdout",
          "text": [
            "[[], [], [], [], [], [], [], [], [], [('march 6', 120)], [], [], [], [], [], [], [], [], [], [], [], [], [], [], [], [], [], [], [], [], [], [], [], [], [], [], [], [], [], [], [], [], [], [], [], [], [], [], [], [], [], [], [], [], [], [], [], [], [], [], [], [], [], [], [], [], [], [], [], [], [], [], [], [], [], [], [], [], [], [], [], [], [], [], [], [], [], [], [], [], [], [], [], [], [], [], [], [], [], []]\n"
          ]
        }
      ]
    }
  ]
}