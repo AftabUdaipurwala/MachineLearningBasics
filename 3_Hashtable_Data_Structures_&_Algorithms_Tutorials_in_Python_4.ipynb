{
  "nbformat": 4,
  "nbformat_minor": 0,
  "metadata": {
    "colab": {
      "provenance": [],
      "authorship_tag": "ABX9TyOc8HDTRuTAnURkP+E52JTe",
      "include_colab_link": true
    },
    "kernelspec": {
      "name": "python3",
      "display_name": "Python 3"
    },
    "language_info": {
      "name": "python"
    }
  },
  "cells": [
    {
      "cell_type": "markdown",
      "metadata": {
        "id": "view-in-github",
        "colab_type": "text"
      },
      "source": [
        "<a href=\"https://colab.research.google.com/github/AftabUdaipurwala/MachineLearningBasics/blob/ClassificationModels/3_Hashtable_Data_Structures_%26_Algorithms_Tutorials_in_Python_4.ipynb\" target=\"_parent\"><img src=\"https://colab.research.google.com/assets/colab-badge.svg\" alt=\"Open In Colab\"/></a>"
      ]
    },
    {
      "cell_type": "code",
      "execution_count": 8,
      "metadata": {
        "id": "puL2ImuT4UzZ"
      },
      "outputs": [],
      "source": [
        "class Hashtable:\n",
        "\n",
        "    def __init__(self):\n",
        "        self.MAX = 100\n",
        "        self.arr = [None for i in range(self.MAX)] # this will create an array of 100 items with values as None\n",
        "    \n",
        "    def get_hash(self,key): # this is a function created to get the hash value\n",
        "        h=0\n",
        "        for i in key:\n",
        "            h+=ord(i)\n",
        "            h = h%self.MAX\n",
        "        return h\n",
        "    \n",
        "    def __setitem__(self,key,value):\n",
        "        h = self.get_hash(key)\n",
        "        self.arr[h]=value\n",
        "    \n",
        "    def __getitem__(self,key):\n",
        "        h = self.get_hash(key)\n",
        "        return self.arr[h]\n",
        "    \n",
        "    def __delitem__(self,key):\n",
        "        h = self.get_hash(key)\n",
        "        self.arr[h]=None"
      ]
    },
    {
      "cell_type": "code",
      "source": [
        "tab = Hashtable()\n",
        "print(tab.arr)"
      ],
      "metadata": {
        "colab": {
          "base_uri": "https://localhost:8080/"
        },
        "id": "_P8Z-D7H5czv",
        "outputId": "7576db13-fa1d-4b5d-c3c1-9c8100ee175b"
      },
      "execution_count": 9,
      "outputs": [
        {
          "output_type": "stream",
          "name": "stdout",
          "text": [
            "[None, None, None, None, None, None, None, None, None, None, None, None, None, None, None, None, None, None, None, None, None, None, None, None, None, None, None, None, None, None, None, None, None, None, None, None, None, None, None, None, None, None, None, None, None, None, None, None, None, None, None, None, None, None, None, None, None, None, None, None, None, None, None, None, None, None, None, None, None, None, None, None, None, None, None, None, None, None, None, None, None, None, None, None, None, None, None, None, None, None, None, None, None, None, None, None, None, None, None, None]\n"
          ]
        }
      ]
    },
    {
      "cell_type": "code",
      "source": [
        "tab['march 9']=900"
      ],
      "metadata": {
        "id": "ugghjZNc5cp9"
      },
      "execution_count": 10,
      "outputs": []
    },
    {
      "cell_type": "code",
      "source": [
        "tab['march 9']"
      ],
      "metadata": {
        "colab": {
          "base_uri": "https://localhost:8080/"
        },
        "id": "Imtjhg3f5cYu",
        "outputId": "4c9d038b-d58a-489a-b863-2a2acb247da4"
      },
      "execution_count": 11,
      "outputs": [
        {
          "output_type": "execute_result",
          "data": {
            "text/plain": [
              "900"
            ]
          },
          "metadata": {},
          "execution_count": 11
        }
      ]
    },
    {
      "cell_type": "code",
      "source": [
        "print(tab.arr)"
      ],
      "metadata": {
        "colab": {
          "base_uri": "https://localhost:8080/"
        },
        "id": "nZ4nBYxk6NDf",
        "outputId": "b90b4db3-43ce-43f0-c77c-2ff4e474ae4b"
      },
      "execution_count": 13,
      "outputs": [
        {
          "output_type": "stream",
          "name": "stdout",
          "text": [
            "[None, None, None, None, None, None, None, None, None, None, None, None, 900, None, None, None, None, None, None, None, None, None, None, None, None, None, None, None, None, None, None, None, None, None, None, None, None, None, None, None, None, None, None, None, None, None, None, None, None, None, None, None, None, None, None, None, None, None, None, None, None, None, None, None, None, None, None, None, None, None, None, None, None, None, None, None, None, None, None, None, None, None, None, None, None, None, None, None, None, None, None, None, None, None, None, None, None, None, None, None]\n"
          ]
        }
      ]
    },
    {
      "cell_type": "code",
      "source": [
        "del tab['march 9']\n",
        "print(tab.arr)"
      ],
      "metadata": {
        "colab": {
          "base_uri": "https://localhost:8080/"
        },
        "id": "W_TKrl356TAf",
        "outputId": "48974c33-87de-41f6-d617-fbb81f2494cd"
      },
      "execution_count": 14,
      "outputs": [
        {
          "output_type": "stream",
          "name": "stdout",
          "text": [
            "[None, None, None, None, None, None, None, None, None, None, None, None, None, None, None, None, None, None, None, None, None, None, None, None, None, None, None, None, None, None, None, None, None, None, None, None, None, None, None, None, None, None, None, None, None, None, None, None, None, None, None, None, None, None, None, None, None, None, None, None, None, None, None, None, None, None, None, None, None, None, None, None, None, None, None, None, None, None, None, None, None, None, None, None, None, None, None, None, None, None, None, None, None, None, None, None, None, None, None, None]\n"
          ]
        }
      ]
    }
  ]
}