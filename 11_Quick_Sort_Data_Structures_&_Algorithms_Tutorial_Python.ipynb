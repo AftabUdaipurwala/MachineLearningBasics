{
  "nbformat": 4,
  "nbformat_minor": 0,
  "metadata": {
    "colab": {
      "provenance": [],
      "collapsed_sections": [],
      "authorship_tag": "ABX9TyMi/J+s5h2MU4ShtI9n1MRF",
      "include_colab_link": true
    },
    "kernelspec": {
      "name": "python3",
      "display_name": "Python 3"
    },
    "language_info": {
      "name": "python"
    }
  },
  "cells": [
    {
      "cell_type": "markdown",
      "metadata": {
        "id": "view-in-github",
        "colab_type": "text"
      },
      "source": [
        "<a href=\"https://colab.research.google.com/github/AftabUdaipurwala/MachineLearningBasics/blob/ClassificationModels/11_Quick_Sort_Data_Structures_%26_Algorithms_Tutorial_Python.ipynb\" target=\"_parent\"><img src=\"https://colab.research.google.com/assets/colab-badge.svg\" alt=\"Open In Colab\"/></a>"
      ]
    },
    {
      "cell_type": "code",
      "execution_count": 8,
      "metadata": {
        "id": "N8QxDc7A9MBI"
      },
      "outputs": [],
      "source": [
        "def swap(start,end,elements):\n",
        "    if start!=end:\n",
        "        elements[start],elements[end]=elements[end],elements[start]\n",
        "\n",
        "def partition(elements, start, end):\n",
        "    pivot_index=start\n",
        "    pivot=elements[pivot_index]\n",
        "    start = pivot_index+1\n",
        "    end = len(elements)-1\n",
        "    while start<end:\n",
        "        while start<len(elements) and elements[start]<=pivot:\n",
        "            start +=1\n",
        "        while elements [end]>pivot:\n",
        "            end-=1\n",
        "        if start<end:\n",
        "            swap(start,end,elements)\n",
        "    swap(pivot_index,end,elements)\n",
        "    return end\n",
        "\n",
        "def quick_sort(elements,start,end):\n",
        "    if start<end:\n",
        "        pi = partition(elements,start,end)\n",
        "        quick_sort(elements,start,pi-1) # left partition recursion\n",
        "        quick_sort(elements,pi+1,end) # right partition\n",
        "    return elements"
      ]
    },
    {
      "cell_type": "code",
      "source": [
        "if  __name__==\"__main__\":\n",
        "    elements = [11,9,29,7,2,15,28]\n",
        "    sorted = quick_sort(elements,0,len(elements)-1)\n",
        "    print(sorted)"
      ],
      "metadata": {
        "colab": {
          "base_uri": "https://localhost:8080/"
        },
        "id": "pNnF1U1-Egep",
        "outputId": "97243d45-9556-43d7-92d2-59457bb27fce"
      },
      "execution_count": 9,
      "outputs": [
        {
          "output_type": "stream",
          "name": "stdout",
          "text": [
            "[2, 7, 9, 11, 15, 28, 29]\n"
          ]
        }
      ]
    },
    {
      "cell_type": "code",
      "source": [
        "test_cases = [[11,9,29,7,2,15,28],\n",
        "              [],\n",
        "              [6],\n",
        "              [1,2,3,4]]\n",
        "for elements in test_cases:\n",
        "    print(quick_sort(elements,0,len(elements)-1))\n",
        "    "
      ],
      "metadata": {
        "colab": {
          "base_uri": "https://localhost:8080/"
        },
        "id": "reX-Xeo1Jent",
        "outputId": "131411d1-d4c2-4342-d80c-da547048597d"
      },
      "execution_count": 10,
      "outputs": [
        {
          "output_type": "stream",
          "name": "stdout",
          "text": [
            "[2, 7, 9, 11, 15, 28, 29]\n",
            "[]\n",
            "[6]\n",
            "[1, 2, 4, 3]\n"
          ]
        }
      ]
    }
  ]
}