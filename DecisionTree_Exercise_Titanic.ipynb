{
  "nbformat": 4,
  "nbformat_minor": 0,
  "metadata": {
    "colab": {
      "name": "DecisionTree_Exercise_Titanic.ipynb",
      "provenance": [],
      "collapsed_sections": [],
      "authorship_tag": "ABX9TyOVRgUhpXHMextDo6v4NtV+",
      "include_colab_link": true
    },
    "kernelspec": {
      "name": "python3",
      "display_name": "Python 3"
    },
    "language_info": {
      "name": "python"
    }
  },
  "cells": [
    {
      "cell_type": "markdown",
      "metadata": {
        "id": "view-in-github",
        "colab_type": "text"
      },
      "source": [
        "<a href=\"https://colab.research.google.com/github/AftabUdaipurwala/MachineLearningBasics/blob/ClassificationModels/DecisionTree_Exercise_Titanic.ipynb\" target=\"_parent\"><img src=\"https://colab.research.google.com/assets/colab-badge.svg\" alt=\"Open In Colab\"/></a>"
      ]
    },
    {
      "cell_type": "code",
      "metadata": {
        "id": "2D08BPcfUQhu"
      },
      "source": [
        "from google.colab import drive\n",
        "drive.mount('/content/drive')"
      ],
      "execution_count": null,
      "outputs": []
    },
    {
      "cell_type": "code",
      "metadata": {
        "id": "gPvCxaqDUZrQ"
      },
      "source": [
        "!ls '/content/drive/MyDrive/py-master/ML/9_decision_tree/Exercise'"
      ],
      "execution_count": null,
      "outputs": []
    },
    {
      "cell_type": "code",
      "metadata": {
        "id": "oYt-uzFNUcQj"
      },
      "source": [
        "import pandas as pd\n",
        "import numpy as np\n",
        "import matplotlib.pyplot as plt\n",
        "from sklearn.datasets import load_digits"
      ],
      "execution_count": null,
      "outputs": []
    },
    {
      "cell_type": "code",
      "metadata": {
        "id": "sYloZkYEUekn"
      },
      "source": [
        "df = pd.read_csv('/content/drive/MyDrive/py-master/ML/9_decision_tree/salaries.csv')\n",
        "df"
      ],
      "execution_count": null,
      "outputs": []
    },
    {
      "cell_type": "code",
      "metadata": {
        "id": "88LW0HrwUgG2"
      },
      "source": [
        "inputs = df.drop('salary_more_then_100k', axis=1)\n",
        "inputs"
      ],
      "execution_count": null,
      "outputs": []
    },
    {
      "cell_type": "code",
      "metadata": {
        "id": "10LvWTmyUhx7"
      },
      "source": [
        "target = df['salary_more_then_100k']\n",
        "target"
      ],
      "execution_count": null,
      "outputs": []
    },
    {
      "cell_type": "code",
      "metadata": {
        "id": "Z9cszOP6UjG0"
      },
      "source": [
        "from sklearn.preprocessing import LabelEncoder\n",
        "lecom = LabelEncoder()\n",
        "lejob = LabelEncoder()\n",
        "ledeg = LabelEncoder()"
      ],
      "execution_count": null,
      "outputs": []
    },
    {
      "cell_type": "code",
      "metadata": {
        "id": "31LMcdR5UkbS"
      },
      "source": [
        "inputs['company_n'] = lecom.fit_transform(inputs['company'])\n",
        "inputs['job_n'] = lejob.fit_transform(inputs['job'])\n",
        "inputs['degree_n'] = ledeg.fit_transform(inputs['degree'])"
      ],
      "execution_count": null,
      "outputs": []
    },
    {
      "cell_type": "code",
      "metadata": {
        "id": "H3Lb5crcUl7c"
      },
      "source": [
        "inputs"
      ],
      "execution_count": null,
      "outputs": []
    },
    {
      "cell_type": "code",
      "metadata": {
        "id": "8vMdvn3uUoI8"
      },
      "source": [
        "drop = inputs.drop(['company','job','degree'],axis=1)"
      ],
      "execution_count": null,
      "outputs": []
    },
    {
      "cell_type": "code",
      "metadata": {
        "id": "We1XXDj6UpoH"
      },
      "source": [
        "drop"
      ],
      "execution_count": null,
      "outputs": []
    },
    {
      "cell_type": "code",
      "metadata": {
        "id": "52DeWQiaUrRZ"
      },
      "source": [
        "from sklearn import tree\n",
        "model= tree.DecisionTreeClassifier(random_state=123)\n",
        "model.fit(drop, target)\n"
      ],
      "execution_count": null,
      "outputs": []
    },
    {
      "cell_type": "code",
      "metadata": {
        "id": "Y2xLO3t-UuLk"
      },
      "source": [
        "model.score(drop, target)"
      ],
      "execution_count": null,
      "outputs": []
    },
    {
      "cell_type": "code",
      "metadata": {
        "id": "p9IQL6BBUwjv"
      },
      "source": [
        "model.predict([[2,2,1]])"
      ],
      "execution_count": null,
      "outputs": []
    },
    {
      "cell_type": "code",
      "metadata": {
        "id": "f9x7rDDtUyOp"
      },
      "source": [
        "model.predict([[2,0,1]])"
      ],
      "execution_count": null,
      "outputs": []
    },
    {
      "cell_type": "code",
      "metadata": {
        "id": "IHeSoqKtUz3J"
      },
      "source": [
        "from sklearn.tree import plot_tree\n",
        "tree.plot_tree(model)"
      ],
      "execution_count": null,
      "outputs": []
    }
  ]
}