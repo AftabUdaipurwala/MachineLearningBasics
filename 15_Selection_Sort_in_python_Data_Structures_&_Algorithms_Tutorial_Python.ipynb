{
  "nbformat": 4,
  "nbformat_minor": 0,
  "metadata": {
    "colab": {
      "provenance": [],
      "collapsed_sections": [],
      "authorship_tag": "ABX9TyP9HK1JjpVduGGqqpwRO5pZ",
      "include_colab_link": true
    },
    "kernelspec": {
      "name": "python3",
      "display_name": "Python 3"
    },
    "language_info": {
      "name": "python"
    }
  },
  "cells": [
    {
      "cell_type": "markdown",
      "metadata": {
        "id": "view-in-github",
        "colab_type": "text"
      },
      "source": [
        "<a href=\"https://colab.research.google.com/github/AftabUdaipurwala/MachineLearningBasics/blob/ClassificationModels/15_Selection_Sort_in_python_Data_Structures_%26_Algorithms_Tutorial_Python.ipynb\" target=\"_parent\"><img src=\"https://colab.research.google.com/assets/colab-badge.svg\" alt=\"Open In Colab\"/></a>"
      ]
    },
    {
      "cell_type": "code",
      "execution_count": 10,
      "metadata": {
        "id": "e_ImZl9XxMrU"
      },
      "outputs": [],
      "source": [
        "def selection_sort(elements):\n",
        "    i=0\n",
        "    for i in range(len(elements)-1):\n",
        "        if elements[i]>min(elements[i:]):\n",
        "            idx = elements.index(min(elements[i:]))\n",
        "            elements[i],elements[idx]=elements[idx],elements[i]\n",
        "        i+=1\n",
        "    return elements"
      ]
    },
    {
      "cell_type": "code",
      "source": [
        "if __name__==\"__main__\":\n",
        "    elements = [78,12,15,8,61,53,23,27]\n",
        "    print(selection_sort(elements))"
      ],
      "metadata": {
        "colab": {
          "base_uri": "https://localhost:8080/"
        },
        "id": "zmC1Pg2glZ5F",
        "outputId": "ce881d63-b6f4-4a47-88ee-371cfb48e305"
      },
      "execution_count": 11,
      "outputs": [
        {
          "output_type": "stream",
          "name": "stdout",
          "text": [
            "[8, 12, 15, 23, 27, 53, 61, 78]\n"
          ]
        }
      ]
    }
  ]
}