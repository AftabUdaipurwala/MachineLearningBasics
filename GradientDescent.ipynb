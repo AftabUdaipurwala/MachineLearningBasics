{
  "nbformat": 4,
  "nbformat_minor": 0,
  "metadata": {
    "colab": {
      "name": "GradientDescent.ipynb",
      "provenance": [],
      "collapsed_sections": [],
      "authorship_tag": "ABX9TyN+Fjn07eMD+/QFVm8T916D",
      "include_colab_link": true
    },
    "kernelspec": {
      "name": "python3",
      "display_name": "Python 3"
    },
    "language_info": {
      "name": "python"
    }
  },
  "cells": [
    {
      "cell_type": "markdown",
      "metadata": {
        "id": "view-in-github",
        "colab_type": "text"
      },
      "source": [
        "<a href=\"https://colab.research.google.com/github/AftabUdaipurwala/MachineLearningBasics/blob/GradientDescent/GradientDescent.ipynb\" target=\"_parent\"><img src=\"https://colab.research.google.com/assets/colab-badge.svg\" alt=\"Open In Colab\"/></a>"
      ]
    },
    {
      "cell_type": "code",
      "metadata": {
        "colab": {
          "base_uri": "https://localhost:8080/"
        },
        "id": "5FN_hXKbLX2W",
        "outputId": "422372d8-c91b-43b0-e551-d0b3d940d7b6"
      },
      "source": [
        "from google.colab import drive\n",
        "drive.mount('/content/drive')"
      ],
      "execution_count": 2,
      "outputs": [
        {
          "output_type": "stream",
          "text": [
            "Mounted at /content/drive\n"
          ],
          "name": "stdout"
        }
      ]
    },
    {
      "cell_type": "code",
      "metadata": {
        "colab": {
          "base_uri": "https://localhost:8080/"
        },
        "id": "jPwcxbiPLdrG",
        "outputId": "d3bea219-1236-458d-d9f8-a98092b88ed4"
      },
      "source": [
        "!ls '/content/drive/MyDrive/py-master/ML/'"
      ],
      "execution_count": 3,
      "outputs": [
        {
          "output_type": "stream",
          "text": [
            "10_svm\t\t\t   16_regularization\t      6_train_test_split\n",
            "11_random_forest\t   1_linear_reg\t\t      7_logistic_reg\n",
            "12_KFold_Cross_Validation  2_linear_reg_multivariate  8_logistic_reg_multiclass\n",
            "13_kmeans\t\t   3_gradient_descent\t      9_decision_tree\n",
            "14_naive_bayes\t\t   4_save_model\t\t      FeatureEngineering\n",
            "15_gridsearch\t\t   5_one_hot_encoding\n"
          ],
          "name": "stdout"
        }
      ]
    },
    {
      "cell_type": "code",
      "metadata": {
        "id": "mD5cu4t0LieS"
      },
      "source": [
        "import pandas as pd\n",
        "import numpy as np\n",
        "from sklearn import linear_model\n",
        "import matplotlib.pyplot as plt"
      ],
      "execution_count": null,
      "outputs": []
    },
    {
      "cell_type": "code",
      "metadata": {
        "id": "NFncHXo1LjAE"
      },
      "source": [
        "df = pd.read_csv('/content/drive/MyDrive/py-master/ML/2_linear_reg_multivariate/homeprices.csv')\n",
        "df"
      ],
      "execution_count": null,
      "outputs": []
    }
  ]
}