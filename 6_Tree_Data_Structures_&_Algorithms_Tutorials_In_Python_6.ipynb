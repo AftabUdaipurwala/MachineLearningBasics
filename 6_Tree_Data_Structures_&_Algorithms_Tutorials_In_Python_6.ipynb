{
  "nbformat": 4,
  "nbformat_minor": 0,
  "metadata": {
    "colab": {
      "provenance": [],
      "collapsed_sections": [],
      "authorship_tag": "ABX9TyMyGOhhKoP3TDhtCr7oaMGj",
      "include_colab_link": true
    },
    "kernelspec": {
      "name": "python3",
      "display_name": "Python 3"
    },
    "language_info": {
      "name": "python"
    }
  },
  "cells": [
    {
      "cell_type": "markdown",
      "metadata": {
        "id": "view-in-github",
        "colab_type": "text"
      },
      "source": [
        "<a href=\"https://colab.research.google.com/github/AftabUdaipurwala/MachineLearningBasics/blob/ClassificationModels/6_Tree_Data_Structures_%26_Algorithms_Tutorials_In_Python_6.ipynb\" target=\"_parent\"><img src=\"https://colab.research.google.com/assets/colab-badge.svg\" alt=\"Open In Colab\"/></a>"
      ]
    },
    {
      "cell_type": "code",
      "execution_count": 40,
      "metadata": {
        "id": "8PdnUfno1A3t"
      },
      "outputs": [],
      "source": [
        "class Tree:\n",
        "\n",
        "    def __init__(self,data):\n",
        "        self.data = data\n",
        "        self.children =[]\n",
        "        self.parent= None\n",
        "    \n",
        "    def add_child(self,child):\n",
        "        child.parent = self\n",
        "        self.children.append(child)\n",
        "\n",
        "    def get_level(self):\n",
        "        level=0\n",
        "        p=self.parent\n",
        "        while p:\n",
        "            level +=1\n",
        "            p=p.parent\n",
        "        return level\n",
        "\n",
        "    def print_tree(self):\n",
        "        print(\"    \"*self.get_level(),\"|--\",self.data)\n",
        "        if len(self.children)>0:\n",
        "            for child in self.children:\n",
        "                child.print_tree()\n"
      ]
    },
    {
      "cell_type": "code",
      "source": [],
      "metadata": {
        "id": "9SIcz1qTCeSi"
      },
      "execution_count": null,
      "outputs": []
    },
    {
      "cell_type": "code",
      "source": [
        "def build_product_tree():\n",
        "    root = Tree(\"Electronics\")\n",
        "    laptop = Tree(\"Laptop\")\n",
        "    laptop.add_child(Tree(\"Macbook\"))\n",
        "    laptop.add_child(Tree(\"Surface\"))\n",
        "    laptop.add_child(Tree(\"Thinkpad\"))\n",
        "    \n",
        "    cellphones = Tree(\"Cellphones\")\n",
        "    cellphones.add_child(Tree(\"Iphone\"))\n",
        "    cellphones.add_child(Tree(\"Galaxy\"))\n",
        "    cellphones.add_child(Tree(\"Oneplus\"))\n",
        "    \n",
        "    tv = Tree(\"TV\")\n",
        "    tv.add_child(Tree(\"Samsung\"))\n",
        "    tv.add_child(Tree(\"LG\"))\n",
        "    tv.add_child(Tree(\"Crown\"))\n",
        "    \n",
        "\n",
        "\n",
        "    root.add_child(laptop)\n",
        "    root.add_child(cellphones)\n",
        "    root.add_child(tv)\n",
        "\n",
        "\n",
        "\n",
        "    return root\n"
      ],
      "metadata": {
        "id": "JFJ9nm6_5wHV"
      },
      "execution_count": 41,
      "outputs": []
    },
    {
      "cell_type": "code",
      "source": [
        "out= build_product_tree()\n",
        "print(out.print_tree())"
      ],
      "metadata": {
        "colab": {
          "base_uri": "https://localhost:8080/"
        },
        "id": "b9MK-Grb6U6Q",
        "outputId": "c5fb86ed-9767-4af8-c78f-8c2666c2db87"
      },
      "execution_count": 42,
      "outputs": [
        {
          "output_type": "stream",
          "name": "stdout",
          "text": [
            " |-- Electronics\n",
            "     |-- Laptop\n",
            "         |-- Macbook\n",
            "         |-- Surface\n",
            "         |-- Thinkpad\n",
            "     |-- Cellphones\n",
            "         |-- Iphone\n",
            "         |-- Galaxy\n",
            "         |-- Oneplus\n",
            "     |-- TV\n",
            "         |-- Samsung\n",
            "         |-- LG\n",
            "         |-- Crown\n",
            "None\n"
          ]
        }
      ]
    }
  ]
}