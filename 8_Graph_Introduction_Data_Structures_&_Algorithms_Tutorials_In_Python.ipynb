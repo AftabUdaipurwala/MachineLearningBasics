{
  "nbformat": 4,
  "nbformat_minor": 0,
  "metadata": {
    "colab": {
      "provenance": [],
      "collapsed_sections": [],
      "authorship_tag": "ABX9TyNWt5rIu3WLQabqSe5Xm7/S",
      "include_colab_link": true
    },
    "kernelspec": {
      "name": "python3",
      "display_name": "Python 3"
    },
    "language_info": {
      "name": "python"
    }
  },
  "cells": [
    {
      "cell_type": "markdown",
      "metadata": {
        "id": "view-in-github",
        "colab_type": "text"
      },
      "source": [
        "<a href=\"https://colab.research.google.com/github/AftabUdaipurwala/MachineLearningBasics/blob/ClassificationModels/8_Graph_Introduction_Data_Structures_%26_Algorithms_Tutorials_In_Python.ipynb\" target=\"_parent\"><img src=\"https://colab.research.google.com/assets/colab-badge.svg\" alt=\"Open In Colab\"/></a>"
      ]
    },
    {
      "cell_type": "code",
      "source": [
        "class Graph:\n",
        "    def __init__(self, edges):\n",
        "        self.edges = edges\n",
        "        self.graph_dict = {}\n",
        "        for start, end in edges:\n",
        "            if start in self.graph_dict:\n",
        "                self.graph_dict[start].append(end)\n",
        "            else:\n",
        "                self.graph_dict[start] = [end]\n",
        "        print(\"Graph Dict:\", self.graph_dict)\n",
        "\n",
        "    def get_paths(self, start, end, path=[]):\n",
        "        path = path + [start]\n",
        "\n",
        "        if start == end:\n",
        "            return [path]\n",
        "\n",
        "        if start not in self.graph_dict:\n",
        "            return []\n",
        "\n",
        "        paths = []\n",
        "        for node in self.graph_dict[start]:\n",
        "            if node not in path:\n",
        "                new_paths = self.get_paths(node, end, path)\n",
        "                for p in new_paths:\n",
        "                    paths.append(p)\n",
        "\n",
        "        return paths\n",
        "\n",
        "    def get_shortest_path(self, start, end, path=[]):\n",
        "        path = path + [start]\n",
        "\n",
        "        if start == end:\n",
        "            return path\n",
        "\n",
        "        if start not in self.graph_dict:\n",
        "            return None\n",
        "\n",
        "        shortest_path = None\n",
        "        for node in self.graph_dict[start]:\n",
        "            if node not in path:\n",
        "                sp = self.get_shortest_path(node, end, path)\n",
        "                if sp:\n",
        "                    if shortest_path is None or len(sp) < len(shortest_path):\n",
        "                        shortest_path = sp\n",
        "\n",
        "        return shortest_path"
      ],
      "metadata": {
        "id": "UCstT7AEhg3S"
      },
      "execution_count": 40,
      "outputs": []
    },
    {
      "cell_type": "code",
      "source": [
        "if __name__==\"__main__\":\n",
        "    routes =[\n",
        "        (\"Mum\",\"Paris\"),\n",
        "        (\"Mum\",\"Dubai\"),\n",
        "        (\"Mum\",\"NY\"),\n",
        "        (\"Paris\",\"NY\"),\n",
        "        (\"Paris\",\"Dubai\"),\n",
        "        (\"Dubai\",\"NY\"),\n",
        "        (\"NY\",\"Toronto\"),\n",
        "    ]\n"
      ],
      "metadata": {
        "id": "96NqD9VDhgwX"
      },
      "execution_count": 41,
      "outputs": []
    },
    {
      "cell_type": "code",
      "source": [
        "route_graph = Graph(routes)"
      ],
      "metadata": {
        "colab": {
          "base_uri": "https://localhost:8080/"
        },
        "id": "0Y0wWwwEhgrM",
        "outputId": "f8563daa-f12c-4bc9-b8bb-39868e820171"
      },
      "execution_count": 42,
      "outputs": [
        {
          "output_type": "stream",
          "name": "stdout",
          "text": [
            "Graph Dict: {'Mum': ['Paris', 'Dubai', 'NY'], 'Paris': ['NY', 'Dubai'], 'Dubai': ['NY'], 'NY': ['Toronto']}\n"
          ]
        }
      ]
    },
    {
      "cell_type": "code",
      "source": [
        "print(route_graph.graph_dict)"
      ],
      "metadata": {
        "colab": {
          "base_uri": "https://localhost:8080/"
        },
        "id": "cKpnB8Y1l5ID",
        "outputId": "eddb1f20-3121-43b5-cedb-8d5680f3f566"
      },
      "execution_count": 43,
      "outputs": [
        {
          "output_type": "stream",
          "name": "stdout",
          "text": [
            "{'Mum': ['Paris', 'Dubai', 'NY'], 'Paris': ['NY', 'Dubai'], 'Dubai': ['NY'], 'NY': ['Toronto']}\n"
          ]
        }
      ]
    },
    {
      "cell_type": "code",
      "execution_count": 44,
      "metadata": {
        "colab": {
          "base_uri": "https://localhost:8080/"
        },
        "id": "Dp9DlGyaev-o",
        "outputId": "7ec5d048-0413-4f75-a7bd-9613773bf2a4"
      },
      "outputs": [
        {
          "output_type": "stream",
          "name": "stdout",
          "text": [
            "Paths between Mum and NY is [['Mum', 'Paris', 'NY'], ['Mum', 'Paris', 'Dubai', 'NY'], ['Mum', 'Dubai', 'NY'], ['Mum', 'NY']]\n"
          ]
        }
      ],
      "source": [
        "start = \"Mum\"\n",
        "end =\"NY\"\n",
        "print(f\"Paths between {start} and {end} is {route_graph.get_paths(start=start,end=end)}\")"
      ]
    },
    {
      "cell_type": "code",
      "source": [
        "start = \"Mum\"\n",
        "end =\"NY\"\n",
        "print(f\"Paths between {start} and {end} is {route_graph.get_shortest_path(start=start,end=end)}\")"
      ],
      "metadata": {
        "colab": {
          "base_uri": "https://localhost:8080/"
        },
        "id": "DhXn4ZUTxnr8",
        "outputId": "5ddadbe8-0451-46b4-ba40-59748138e94c"
      },
      "execution_count": 46,
      "outputs": [
        {
          "output_type": "stream",
          "name": "stdout",
          "text": [
            "Paths between Mum and NY is ['Mum', 'NY']\n"
          ]
        }
      ]
    }
  ]
}